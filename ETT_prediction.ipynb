{
  "cells": [
    {
      "cell_type": "markdown",
      "metadata": {
        "id": "view-in-github",
        "colab_type": "text"
      },
      "source": [
        "<a href=\"https://colab.research.google.com/github/Hyeonsik/endotracheal_tube/blob/main/ETT_prediction.ipynb\" target=\"_parent\"><img src=\"https://colab.research.google.com/assets/colab-badge.svg\" alt=\"Open In Colab\"/></a>"
      ]
    },
    {
      "cell_type": "markdown",
      "metadata": {
        "id": "LGz6l-5P67iL"
      },
      "source": [
        "### Download model and sample files"
      ]
    },
    {
      "cell_type": "code",
      "execution_count": 1,
      "metadata": {
        "id": "v0BW_5RY67iM",
        "outputId": "c0ee37ca-278c-4df3-ca36-489672833820",
        "colab": {
          "base_uri": "https://localhost:8080/"
        }
      },
      "outputs": [
        {
          "output_type": "stream",
          "name": "stdout",
          "text": [
            "--2023-05-28 15:57:12--  https://github.com/Hyeonsik/endotracheal_tube/raw/main/best_size_model.json\n",
            "Resolving github.com (github.com)... 140.82.114.3\n",
            "Connecting to github.com (github.com)|140.82.114.3|:443... connected.\n",
            "HTTP request sent, awaiting response... 302 Found\n",
            "Location: https://raw.githubusercontent.com/Hyeonsik/endotracheal_tube/main/best_size_model.json [following]\n",
            "--2023-05-28 15:57:12--  https://raw.githubusercontent.com/Hyeonsik/endotracheal_tube/main/best_size_model.json\n",
            "Resolving raw.githubusercontent.com (raw.githubusercontent.com)... 185.199.108.133, 185.199.109.133, 185.199.110.133, ...\n",
            "Connecting to raw.githubusercontent.com (raw.githubusercontent.com)|185.199.108.133|:443... connected.\n",
            "HTTP request sent, awaiting response... 200 OK\n",
            "Length: 79664 (78K) [text/plain]\n",
            "Saving to: ‘best_size_model.json.1’\n",
            "\n",
            "\rbest_size_model.jso   0%[                    ]       0  --.-KB/s               \rbest_size_model.jso 100%[===================>]  77.80K  --.-KB/s    in 0.002s  \n",
            "\n",
            "2023-05-28 15:57:12 (46.5 MB/s) - ‘best_size_model.json.1’ saved [79664/79664]\n",
            "\n",
            "--2023-05-28 15:57:12--  https://github.com/Hyeonsik/endotracheal_tube/raw/main/best_depth_model.json\n",
            "Resolving github.com (github.com)... 140.82.112.3\n",
            "Connecting to github.com (github.com)|140.82.112.3|:443... connected.\n",
            "HTTP request sent, awaiting response... 302 Found\n",
            "Location: https://raw.githubusercontent.com/Hyeonsik/endotracheal_tube/main/best_depth_model.json [following]\n",
            "--2023-05-28 15:57:12--  https://raw.githubusercontent.com/Hyeonsik/endotracheal_tube/main/best_depth_model.json\n",
            "Resolving raw.githubusercontent.com (raw.githubusercontent.com)... 185.199.108.133, 185.199.109.133, 185.199.110.133, ...\n",
            "Connecting to raw.githubusercontent.com (raw.githubusercontent.com)|185.199.108.133|:443... connected.\n",
            "HTTP request sent, awaiting response... 200 OK\n",
            "Length: 230190 (225K) [text/plain]\n",
            "Saving to: ‘best_depth_model.json.1’\n",
            "\n",
            "best_depth_model.js 100%[===================>] 224.79K  --.-KB/s    in 0.003s  \n",
            "\n",
            "2023-05-28 15:57:12 (84.0 MB/s) - ‘best_depth_model.json.1’ saved [230190/230190]\n",
            "\n",
            "--2023-05-28 15:57:12--  https://github.com/Hyeonsik/endotracheal_tube/raw/main/sample.csv\n",
            "Resolving github.com (github.com)... 140.82.112.3\n",
            "Connecting to github.com (github.com)|140.82.112.3|:443... connected.\n",
            "HTTP request sent, awaiting response... 302 Found\n",
            "Location: https://raw.githubusercontent.com/Hyeonsik/endotracheal_tube/main/sample.csv [following]\n",
            "--2023-05-28 15:57:12--  https://raw.githubusercontent.com/Hyeonsik/endotracheal_tube/main/sample.csv\n",
            "Resolving raw.githubusercontent.com (raw.githubusercontent.com)... 185.199.108.133, 185.199.109.133, 185.199.110.133, ...\n",
            "Connecting to raw.githubusercontent.com (raw.githubusercontent.com)|185.199.108.133|:443... connected.\n",
            "HTTP request sent, awaiting response... 200 OK\n",
            "Length: 799 [text/plain]\n",
            "Saving to: ‘sample.csv.1’\n",
            "\n",
            "sample.csv.1        100%[===================>]     799  --.-KB/s    in 0s      \n",
            "\n",
            "2023-05-28 15:57:12 (56.9 MB/s) - ‘sample.csv.1’ saved [799/799]\n",
            "\n"
          ]
        }
      ],
      "source": [
        "!wget https://github.com/Hyeonsik/endotracheal_tube/raw/main/best_size_model.json\n",
        "!wget https://github.com/Hyeonsik/endotracheal_tube/raw/main/best_depth_model.json\n",
        "!wget https://github.com/Hyeonsik/endotracheal_tube/raw/main/sample.csv"
      ]
    },
    {
      "cell_type": "markdown",
      "metadata": {
        "id": "rfrAxTkc67iN"
      },
      "source": [
        "## Endotracheal tube Size prediction"
      ]
    },
    {
      "cell_type": "markdown",
      "metadata": {
        "id": "WBSJJAqN67iN"
      },
      "source": [
        "### Sample code for single patient"
      ]
    },
    {
      "cell_type": "code",
      "execution_count": 2,
      "metadata": {
        "id": "ZL7EwaL-67iN",
        "outputId": "ef4ef8b0-2dc2-4ebf-bfac-f40140c9aa4e",
        "colab": {
          "base_uri": "https://localhost:8080/"
        }
      },
      "outputs": [
        {
          "output_type": "stream",
          "name": "stdout",
          "text": [
            "Used tube size: ID 5.0 mm,   Predicted tube size: ID 5.0 mm\n",
            "Fixed depth: 14.0 cm,   Predicted depth: 14.5 cm\n"
          ]
        }
      ],
      "source": [
        "import xgboost as xgb\n",
        "import numpy as np\n",
        "\n",
        "\n",
        "# sample values\n",
        "### age (years), sex (1 if boy else 0) weight (kg), height (cm), cuffed (1 if cuffed else 0) ###\n",
        "### y_size (ID; interal diameter(mm)), y_depth (cm) ###\n",
        "### np.nan for missing value ###\n",
        "age = 3.28\n",
        "sex = 1\n",
        "weight = 17.5\n",
        "height = 103.2\n",
        "cuffed = 0\n",
        "y_size = 5.0\n",
        "y_depth = 14.0\n",
        "\n",
        "\n",
        "# Prediction of size (internal diameter of ETT)\n",
        "## Load the best model\n",
        "model_size = xgb.XGBRegressor()\n",
        "model_size.load_model('best_size_model.json')\n",
        "\n",
        "## Get the predictions\n",
        "x = np.array([[age, weight, height, cuffed]])\n",
        "y_pred = model_size.predict(x).flatten()\n",
        "## Output is rounded up to the nearest size in 0.5 mm\n",
        "y_pred = np.round(y_pred * 2) / 2\n",
        "\n",
        "print(f'Used tube size: ID {y_size:.1f} mm,   Predicted tube size: ID {y_pred[0]:.1f} mm')\n",
        "\n",
        "\n",
        "# Prediction of fixed depth\n",
        "## Load the best model\n",
        "model_depth = xgb.XGBRegressor()\n",
        "model_depth.load_model('best_depth_model.json')\n",
        "\n",
        "## Get the predictions\n",
        "x = np.array([[age, weight, height, cuffed]])\n",
        "y_pred = model_depth.predict(x).flatten()\n",
        "\n",
        "print(f\"Fixed depth: {y_depth:.1f} cm,   Predicted depth: {y_pred[0]:.1f} cm\")"
      ]
    },
    {
      "cell_type": "markdown",
      "metadata": {
        "id": "U8rQBOFb67iN"
      },
      "source": [
        "### Sample code using CSV file for multiple patients"
      ]
    },
    {
      "cell_type": "code",
      "execution_count": 3,
      "metadata": {
        "id": "aDQ4fd9Z67iO",
        "outputId": "a87bc098-0e6a-487e-ed10-9a97a659d28e",
        "colab": {
          "base_uri": "https://localhost:8080/"
        }
      },
      "outputs": [
        {
          "output_type": "stream",
          "name": "stdout",
          "text": [
            "     age_cal    sex  weight  height  cuffed  size  depth  pred_size  \\\n",
            "1   0.167012   True    5.30    60.0   False   3.5   10.0        3.5   \n",
            "2   1.144445   True   10.10    78.0   False   4.0   10.5        4.5   \n",
            "3   0.054758   True     NaN    51.5   False   3.0   10.0        3.5   \n",
            "4   5.407366  False   18.65   107.4   False   5.0   14.0        5.5   \n",
            "5   0.221770  False     NaN    58.1   False   3.5   10.0        3.5   \n",
            "6   7.093917   True   21.60   123.0    True   5.5   16.0        5.5   \n",
            "7   2.642080   True   13.40    91.0   False   4.5   13.0        5.0   \n",
            "8   0.375093   True     NaN    67.0   False   4.0   12.5        4.0   \n",
            "9   3.375839   True   14.70    99.2   False   5.0   14.0        5.0   \n",
            "10  1.048618   True    8.70    74.0   False   4.5   12.0        4.5   \n",
            "11  4.210901   True   13.55    98.9   False   5.5   14.0        5.0   \n",
            "12  5.766032   True   23.55   119.8    True   5.5   15.0        5.5   \n",
            "13  1.440139   True   13.50    86.0   False   4.0   14.0        4.5   \n",
            "14  9.705880   True   24.60   130.6    True   5.5   19.0        6.0   \n",
            "15  0.331287  False    7.30    61.9    True   3.5    9.5        3.5   \n",
            "\n",
            "    pred_depth  \n",
            "1    10.412050  \n",
            "2    12.411224  \n",
            "3     9.816514  \n",
            "4    15.217789  \n",
            "5    10.214959  \n",
            "6    16.597729  \n",
            "7    13.838525  \n",
            "8    11.004368  \n",
            "9    14.395746  \n",
            "10   12.010674  \n",
            "11   14.548474  \n",
            "12   16.194952  \n",
            "13   13.117762  \n",
            "14   17.382128  \n",
            "15   10.903945  \n"
          ]
        }
      ],
      "source": [
        "import xgboost as xgb\n",
        "import numpy as np\n",
        "import pandas as pd\n",
        "\n",
        "\n",
        "df = pd.read_csv('sample.csv', index_col=[0])\n",
        "\n",
        "# Prediction of size (internal diameter of ETT)\n",
        "## Load the best model\n",
        "model_size = xgb.XGBRegressor()\n",
        "model_size.load_model('best_size_model.json')\n",
        "\n",
        "INPUT_VARS = ['age_cal','weight','height', 'cuffed']\n",
        "x = df[INPUT_VARS].astype(float).values\n",
        "\n",
        "y_pred = model_size.predict(x).flatten()\n",
        "df['pred_size'] = np.round(y_pred * 2) / 2\n",
        "\n",
        "\n",
        "# Prediction of fixed depth\n",
        "## Load the best model\n",
        "model_depth = xgb.XGBRegressor()\n",
        "model_depth.load_model('best_depth_model.json')\n",
        "\n",
        "INPUT_VARS = ['age_cal','sex','weight','height']\n",
        "x = df[INPUT_VARS].astype(float).values\n",
        "\n",
        "df['pred_depth'] = model_depth.predict(x).flatten()\n",
        "df.to_csv('prediction.csv')\n",
        "\n",
        "print(df)"
      ]
    }
  ],
  "metadata": {
    "language_info": {
      "name": "python"
    },
    "orig_nbformat": 4,
    "colab": {
      "provenance": [],
      "gpuType": "T4",
      "include_colab_link": true
    },
    "kernelspec": {
      "name": "python3",
      "display_name": "Python 3"
    },
    "accelerator": "GPU"
  },
  "nbformat": 4,
  "nbformat_minor": 0
}