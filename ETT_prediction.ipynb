{
 "cells": [
  {
   "attachments": {},
   "cell_type": "markdown",
   "metadata": {},
   "source": [
    "### Download model and sample files"
   ]
  },
  {
   "cell_type": "code",
   "execution_count": null,
   "metadata": {},
   "outputs": [],
   "source": [
    "!wget https://github.com/vitaldb/ett/raw/main/best_size_model\n",
    "!wget https://github.com/vitaldb/ett/raw/main/best_depth_model\n",
    "!wget https://github.com/vitaldb/ett/raw/main/sample.csv"
   ]
  },
  {
   "attachments": {},
   "cell_type": "markdown",
   "metadata": {},
   "source": [
    "## Endotracheal tube Size prediction"
   ]
  },
  {
   "attachments": {},
   "cell_type": "markdown",
   "metadata": {},
   "source": [
    "### Sample code for single patient"
   ]
  },
  {
   "cell_type": "code",
   "execution_count": null,
   "metadata": {},
   "outputs": [],
   "source": [
    "import xgboost as xgb\n",
    "import numpy as np\n",
    "\n",
    "\n",
    "# sample values\n",
    "### age (years), sex (1 if boy else 0) weight (kg), height (cm), cuffed (1 if cuffed else 0) ###\n",
    "### y_size (ID; interal diameter(mm)), y_depth (cm) ###\n",
    "### np.nan for missing value ###\n",
    "age = 3.28\n",
    "sex = 1\n",
    "weight = 17.5\n",
    "height = 103.2\n",
    "cuffed = 0\n",
    "y_size = 5.0\n",
    "y_depth = 14.0\n",
    "\n",
    "\n",
    "# Prediction of size (internal diameter of ETT)\n",
    "## Load the best model\n",
    "model_size = xgb.XGBRegressor()\n",
    "model_size.load_model('best_size_model.model')\n",
    "\n",
    "## Get the predictions\n",
    "x = np.array([age, weight, height, cuffed])\n",
    "y_pred = model.predict(x).flatten()\n",
    "## Output is rounded up to the nearest size in 0.5 mm\n",
    "y_pred = np.round(y_pred * 2) / 2\n",
    "\n",
    "print(f'Used tube size: ID {y_size:.1f} mm,   Predicted tube size: ID {y_pred:.1f} mm')\n",
    "\n",
    "\n",
    "# Prediction of fixed depth\n",
    "## Load the best model\n",
    "model_depth = xgb.XGBRegressor()\n",
    "model_depth.load_model('best_depth_model.model')\n",
    "\n",
    "## Get the predictions\n",
    "x = np.array([age, weight, height, cuffed])\n",
    "y_pred = model.predict(x).flatten()\n",
    "\n",
    "print(f'fixed depth: {y_size:.1f} cm,   Predicted depth: {y_pred:.1f} cm')"
   ]
  },
  {
   "attachments": {},
   "cell_type": "markdown",
   "metadata": {},
   "source": [
    "### Sample code using CSV file for multiple patients"
   ]
  },
  {
   "cell_type": "code",
   "execution_count": null,
   "metadata": {},
   "outputs": [],
   "source": [
    "import xgboost as xgb\n",
    "import numpy as np\n",
    "import pandas as pd\n",
    "\n",
    "\n",
    "df = pd.read_csv('sample.csv')\n",
    "\n",
    "# Prediction of size (internal diameter of ETT)\n",
    "## Load the best model\n",
    "model = xgb.XGBRegressor()\n",
    "model.load_model('best_size_model.model')\n",
    "\n",
    "INPUT_VARS = ['age_cal','weight','height', 'cuffed']\n",
    "x = df[INPUT_VARS].astype(float).values\n",
    "\n",
    "y_pred = model.predict(x).flatten()\n",
    "df['pred_size'] = np.round(y_pred * 2) / 2\n",
    "\n",
    "\n",
    "# Prediction of fixed depth\n",
    "## Load the best model\n",
    "model = xgb.XGBRegressor()\n",
    "model.load_model('best_depth_model.model')\n",
    "\n",
    "INPUT_VARS = ['age_cal','sex','weight','height']\n",
    "x = df[INPUT_VARS].astype(float).values\n",
    "\n",
    "df['pred_size'] = model.predict(x).flatten()\n",
    "df.to_csv('prediction.csv')\n",
    "\n",
    "print(df)"
   ]
  }
 ],
 "metadata": {
  "language_info": {
   "name": "python"
  },
  "orig_nbformat": 4
 },
 "nbformat": 4,
 "nbformat_minor": 2
}
